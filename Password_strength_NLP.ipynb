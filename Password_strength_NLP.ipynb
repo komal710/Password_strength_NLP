{
  "nbformat": 4,
  "nbformat_minor": 0,
  "metadata": {
    "colab": {
      "name": "Password_strength_NLP.ipynb",
      "provenance": [],
      "collapsed_sections": [],
      "authorship_tag": "ABX9TyN85tEZNDQlA2WEt35holBq",
      "include_colab_link": true
    },
    "kernelspec": {
      "name": "python3",
      "display_name": "Python 3"
    },
    "language_info": {
      "name": "python"
    }
  },
  "cells": [
    {
      "cell_type": "markdown",
      "metadata": {
        "id": "view-in-github",
        "colab_type": "text"
      },
      "source": [
        "<a href=\"https://colab.research.google.com/github/komal710/Password_strength_NLP/blob/main/Password_strength_NLP.ipynb\" target=\"_parent\"><img src=\"https://colab.research.google.com/assets/colab-badge.svg\" alt=\"Open In Colab\"/></a>"
      ]
    },
    {
      "cell_type": "code",
      "metadata": {
        "id": "oAcRQl2tMBhD"
      },
      "source": [
        "import pandas as pd\n",
        "import numpy as np\n",
        "import seaborn as sns\n",
        "import warnings\n",
        "warnings.filterwarnings('ignore')"
      ],
      "execution_count": 2,
      "outputs": []
    },
    {
      "cell_type": "markdown",
      "metadata": {
        "id": "xAfkTrKvMrY-"
      },
      "source": [
        "#### Reading dataset\n"
      ]
    },
    {
      "cell_type": "code",
      "metadata": {
        "colab": {
          "base_uri": "https://localhost:8080/",
          "height": 240
        },
        "id": "G-rzxTeNNBrM",
        "outputId": "dde2d71b-5a8b-4cf0-bbb2-4acd21c950ac"
      },
      "source": [
        "data=pd.read_csv('data.csv',error_bad_lines=False)\n",
        "data.head()"
      ],
      "execution_count": 5,
      "outputs": [
        {
          "output_type": "stream",
          "text": [
            "b'Skipping line 2810: expected 2 fields, saw 5\\nSkipping line 4641: expected 2 fields, saw 5\\nSkipping line 7171: expected 2 fields, saw 5\\nSkipping line 11220: expected 2 fields, saw 5\\nSkipping line 13809: expected 2 fields, saw 5\\nSkipping line 14132: expected 2 fields, saw 5\\nSkipping line 14293: expected 2 fields, saw 5\\nSkipping line 14865: expected 2 fields, saw 5\\nSkipping line 17419: expected 2 fields, saw 5\\nSkipping line 22801: expected 2 fields, saw 5\\nSkipping line 25001: expected 2 fields, saw 5\\nSkipping line 26603: expected 2 fields, saw 5\\nSkipping line 26742: expected 2 fields, saw 5\\nSkipping line 29702: expected 2 fields, saw 5\\nSkipping line 32767: expected 2 fields, saw 5\\nSkipping line 32878: expected 2 fields, saw 5\\nSkipping line 35643: expected 2 fields, saw 5\\nSkipping line 36550: expected 2 fields, saw 5\\nSkipping line 38732: expected 2 fields, saw 5\\nSkipping line 40567: expected 2 fields, saw 5\\nSkipping line 40576: expected 2 fields, saw 5\\nSkipping line 41864: expected 2 fields, saw 5\\nSkipping line 46861: expected 2 fields, saw 5\\nSkipping line 47939: expected 2 fields, saw 5\\nSkipping line 48628: expected 2 fields, saw 5\\nSkipping line 48908: expected 2 fields, saw 5\\nSkipping line 57582: expected 2 fields, saw 5\\nSkipping line 58782: expected 2 fields, saw 5\\nSkipping line 58984: expected 2 fields, saw 5\\nSkipping line 61518: expected 2 fields, saw 5\\nSkipping line 63451: expected 2 fields, saw 5\\nSkipping line 68141: expected 2 fields, saw 5\\nSkipping line 72083: expected 2 fields, saw 5\\nSkipping line 74027: expected 2 fields, saw 5\\nSkipping line 77811: expected 2 fields, saw 5\\nSkipping line 89959: expected 2 fields, saw 5\\nSkipping line 92040: expected 2 fields, saw 5\\nSkipping line 94134: expected 2 fields, saw 5\\nSkipping line 94466: expected 2 fields, saw 5\\nSkipping line 101702: expected 2 fields, saw 5\\nSkipping line 102033: expected 2 fields, saw 5\\nSkipping line 102235: expected 2 fields, saw 5\\nSkipping line 106867: expected 2 fields, saw 5\\nSkipping line 111622: expected 2 fields, saw 5\\nSkipping line 115249: expected 2 fields, saw 5\\nSkipping line 117929: expected 2 fields, saw 5\\nSkipping line 118150: expected 2 fields, saw 5\\nSkipping line 124710: expected 2 fields, saw 5\\nSkipping line 127690: expected 2 fields, saw 5\\nSkipping line 135935: expected 2 fields, saw 5\\nSkipping line 137503: expected 2 fields, saw 5\\nSkipping line 138945: expected 2 fields, saw 5\\nSkipping line 139249: expected 2 fields, saw 5\\nSkipping line 139665: expected 2 fields, saw 5\\nSkipping line 144480: expected 2 fields, saw 5\\nSkipping line 145811: expected 2 fields, saw 5\\nSkipping line 147789: expected 2 fields, saw 5\\nSkipping line 150780: expected 2 fields, saw 5\\nSkipping line 151360: expected 2 fields, saw 5\\nSkipping line 153706: expected 2 fields, saw 5\\nSkipping line 155115: expected 2 fields, saw 5\\nSkipping line 155561: expected 2 fields, saw 5\\nSkipping line 155685: expected 2 fields, saw 5\\nSkipping line 161078: expected 2 fields, saw 5\\n'\n"
          ],
          "name": "stderr"
        },
        {
          "output_type": "execute_result",
          "data": {
            "text/html": [
              "<div>\n",
              "<style scoped>\n",
              "    .dataframe tbody tr th:only-of-type {\n",
              "        vertical-align: middle;\n",
              "    }\n",
              "\n",
              "    .dataframe tbody tr th {\n",
              "        vertical-align: top;\n",
              "    }\n",
              "\n",
              "    .dataframe thead th {\n",
              "        text-align: right;\n",
              "    }\n",
              "</style>\n",
              "<table border=\"1\" class=\"dataframe\">\n",
              "  <thead>\n",
              "    <tr style=\"text-align: right;\">\n",
              "      <th></th>\n",
              "      <th>password</th>\n",
              "      <th>strength</th>\n",
              "    </tr>\n",
              "  </thead>\n",
              "  <tbody>\n",
              "    <tr>\n",
              "      <th>0</th>\n",
              "      <td>kzde5577</td>\n",
              "      <td>1.0</td>\n",
              "    </tr>\n",
              "    <tr>\n",
              "      <th>1</th>\n",
              "      <td>kino3434</td>\n",
              "      <td>1.0</td>\n",
              "    </tr>\n",
              "    <tr>\n",
              "      <th>2</th>\n",
              "      <td>visi7k1yr</td>\n",
              "      <td>1.0</td>\n",
              "    </tr>\n",
              "    <tr>\n",
              "      <th>3</th>\n",
              "      <td>megzy123</td>\n",
              "      <td>1.0</td>\n",
              "    </tr>\n",
              "    <tr>\n",
              "      <th>4</th>\n",
              "      <td>lamborghin1</td>\n",
              "      <td>1.0</td>\n",
              "    </tr>\n",
              "  </tbody>\n",
              "</table>\n",
              "</div>"
            ],
            "text/plain": [
              "      password  strength\n",
              "0     kzde5577       1.0\n",
              "1     kino3434       1.0\n",
              "2    visi7k1yr       1.0\n",
              "3     megzy123       1.0\n",
              "4  lamborghin1       1.0"
            ]
          },
          "metadata": {
            "tags": []
          },
          "execution_count": 5
        }
      ]
    },
    {
      "cell_type": "code",
      "metadata": {
        "colab": {
          "base_uri": "https://localhost:8080/"
        },
        "id": "5dJKNI4AR7PR",
        "outputId": "d2ae706a-5f13-4250-855e-7e003b185ddf"
      },
      "source": [
        "data['strength'].unique()"
      ],
      "execution_count": 6,
      "outputs": [
        {
          "output_type": "execute_result",
          "data": {
            "text/plain": [
              "array([ 1.,  2.,  0., nan])"
            ]
          },
          "metadata": {
            "tags": []
          },
          "execution_count": 6
        }
      ]
    },
    {
      "cell_type": "markdown",
      "metadata": {
        "id": "X8mP9UvEJx4Y"
      },
      "source": [
        "#### code to check all the missing values in my dataset\n",
        "\n",
        ">\n",
        "\n",
        "\n"
      ]
    },
    {
      "cell_type": "code",
      "metadata": {
        "colab": {
          "base_uri": "https://localhost:8080/"
        },
        "id": "9DvjbCMXSO6u",
        "outputId": "8bac3757-3938-4edc-c71a-6583f0222a8b"
      },
      "source": [
        "data.isna().sum()"
      ],
      "execution_count": 7,
      "outputs": [
        {
          "output_type": "execute_result",
          "data": {
            "text/plain": [
              "password    1\n",
              "strength    1\n",
              "dtype: int64"
            ]
          },
          "metadata": {
            "tags": []
          },
          "execution_count": 7
        }
      ]
    },
    {
      "cell_type": "code",
      "metadata": {
        "id": "_S5iLXbXJx4Z",
        "colab": {
          "base_uri": "https://localhost:8080/",
          "height": 80
        },
        "outputId": "370efbcd-e5dd-4a90-adb4-2c2fa1ca04c3"
      },
      "source": [
        "data[data['password'].isnull()]"
      ],
      "execution_count": 8,
      "outputs": [
        {
          "output_type": "execute_result",
          "data": {
            "text/html": [
              "<div>\n",
              "<style scoped>\n",
              "    .dataframe tbody tr th:only-of-type {\n",
              "        vertical-align: middle;\n",
              "    }\n",
              "\n",
              "    .dataframe tbody tr th {\n",
              "        vertical-align: top;\n",
              "    }\n",
              "\n",
              "    .dataframe thead th {\n",
              "        text-align: right;\n",
              "    }\n",
              "</style>\n",
              "<table border=\"1\" class=\"dataframe\">\n",
              "  <thead>\n",
              "    <tr style=\"text-align: right;\">\n",
              "      <th></th>\n",
              "      <th>password</th>\n",
              "      <th>strength</th>\n",
              "    </tr>\n",
              "  </thead>\n",
              "  <tbody>\n",
              "    <tr>\n",
              "      <th>125846</th>\n",
              "      <td>NaN</td>\n",
              "      <td>0.0</td>\n",
              "    </tr>\n",
              "  </tbody>\n",
              "</table>\n",
              "</div>"
            ],
            "text/plain": [
              "       password  strength\n",
              "125846      NaN       0.0"
            ]
          },
          "metadata": {
            "tags": []
          },
          "execution_count": 8
        }
      ]
    },
    {
      "cell_type": "code",
      "metadata": {
        "id": "MtS-UfRnTWCp"
      },
      "source": [
        "data.dropna(inplace=True)"
      ],
      "execution_count": 9,
      "outputs": []
    },
    {
      "cell_type": "code",
      "metadata": {
        "colab": {
          "base_uri": "https://localhost:8080/"
        },
        "id": "XfQHypIPTcht",
        "outputId": "3e7ac4a8-fae3-496c-ca02-738d5dc106a7"
      },
      "source": [
        "data.isnull().sum()"
      ],
      "execution_count": 10,
      "outputs": [
        {
          "output_type": "execute_result",
          "data": {
            "text/plain": [
              "password    0\n",
              "strength    0\n",
              "dtype: int64"
            ]
          },
          "metadata": {
            "tags": []
          },
          "execution_count": 10
        }
      ]
    },
    {
      "cell_type": "code",
      "metadata": {
        "colab": {
          "base_uri": "https://localhost:8080/",
          "height": 296
        },
        "id": "c3ppVH8vTg39",
        "outputId": "8e7a4db3-5107-4037-f6f8-4102dc5c8f5a"
      },
      "source": [
        "sns.countplot(data['strength'])"
      ],
      "execution_count": 11,
      "outputs": [
        {
          "output_type": "execute_result",
          "data": {
            "text/plain": [
              "<matplotlib.axes._subplots.AxesSubplot at 0x7fb302779e50>"
            ]
          },
          "metadata": {
            "tags": []
          },
          "execution_count": 11
        },
        {
          "output_type": "display_data",
          "data": {
            "image/png": "[encoded data removed]",
            "text/plain": [
              "<Figure size 432x288 with 1 Axes>"
            ]
          },
          "metadata": {
            "tags": [],
            "needs_background": "light"
          }
        }
      ]
    },
    {
      "cell_type": "code",
      "metadata": {
        "id": "SyMT-adpJx4b"
      },
      "source": [
        "password_tuple=np.array(data)"
      ],
      "execution_count": 12,
      "outputs": []
    },
    {
      "cell_type": "code",
      "metadata": {
        "colab": {
          "base_uri": "https://localhost:8080/"
        },
        "id": "OWNe3J9MUCae",
        "outputId": "23a0d876-58ca-4595-b8bb-534b15a9809a"
      },
      "source": [
        "password_tuple"
      ],
      "execution_count": 13,
      "outputs": [
        {
          "output_type": "execute_result",
          "data": {
            "text/plain": [
              "array([['kzde5577', 1.0],\n",
              "       ['kino3434', 1.0],\n",
              "       ['visi7k1yr', 1.0],\n",
              "       ...,\n",
              "       ['urabus1', 0.0],\n",
              "       ['wen128go', 1.0],\n",
              "       ['040889mazg', 1.0]], dtype=object)"
            ]
          },
          "metadata": {
            "tags": []
          },
          "execution_count": 13
        }
      ]
    },
    {
      "cell_type": "markdown",
      "metadata": {
        "id": "JUhMIgIFUOoR"
      },
      "source": [
        "#### shuffling randomly for robustness"
      ]
    },
    {
      "cell_type": "code",
      "metadata": {
        "id": "JQ9gIAVxUQg-"
      },
      "source": [
        "import random\n",
        "random.shuffle(password_tuple)"
      ],
      "execution_count": 14,
      "outputs": []
    },
    {
      "cell_type": "code",
      "metadata": {
        "id": "_V9wk0BoUZZ6"
      },
      "source": [
        "x=[labels[0] for labels in password_tuple]\n",
        "y=[labels[1] for labels in password_tuple]"
      ],
      "execution_count": 15,
      "outputs": []
    },
    {
      "cell_type": "code",
      "metadata": {
        "colab": {
          "base_uri": "https://localhost:8080/"
        },
        "id": "iUOZLi0bUeAu",
        "outputId": "7f18dca9-1097-4c26-bc26-6619cd90d4b9"
      },
      "source": [
        "x"
      ],
      "execution_count": 16,
      "outputs": [
        {
          "output_type": "execute_result",
          "data": {
            "text/plain": [
              "['kzde5577',\n",
              " 'kzde5577',\n",
              " 'kzde5577',\n",
              " 'kino3434',\n",
              " 'megzy123',\n",
              " 'lamborghin1',\n",
              " 'kino3434',\n",
              " 'megzy123',\n",
              " 'kzde5577',\n",
              " 'v1118714',\n",
              " 'lamborghin1',\n",
              " 'asv5o9yu',\n",
              " 'visi7k1yr',\n",
              " 'asv5o9yu',\n",
              " 'asv5o9yu',\n",
              " 'kino3434',\n",
              " 'v1118714',\n",
              " 'idofo673',\n",
              " 'lamborghin1',\n",
              " 'asv5o9yu',\n",
              " 'AVYq1lDE4MgAZfNt',\n",
              " '612035180tok',\n",
              " 'AVYq1lDE4MgAZfNt',\n",
              " '6975038lp',\n",
              " '52558000aaa',\n",
              " 'AVYq1lDE4MgAZfNt',\n",
              " '52558000aaa',\n",
              " 'g067057895',\n",
              " 'kino3434',\n",
              " 'kino3434',\n",
              " 'klara-tershina3H',\n",
              " 'elyass15@ajilent-ci',\n",
              " 'sbl571017',\n",
              " '6975038lp',\n",
              " 'sbl571017',\n",
              " 'kzde5577',\n",
              " 'universe2908',\n",
              " 'megzy123',\n",
              " '0169395484a',\n",
              " 'faranumar91',\n",
              " 'asv5o9yu',\n",
              " 'jerusalem393',\n",
              " 'kswa2mrv',\n",
              " 'lamborghin1',\n",
              " 'as326159',\n",
              " '52558000aaa',\n",
              " 'olmaz.',\n",
              " 'klara-tershina3H',\n",
              " 'klara-tershina3H',\n",
              " 'intel1',\n",
              " 'asv5o9yu',\n",
              " 'asv5o9yu',\n",
              " 'elyass15@ajilent-ci',\n",
              " 'lsdlsd1',\n",
              " 'elyass15@ajilent-ci',\n",
              " 'sbl571017',\n",
              " 'alimagik1',\n",
              " 'schalke04',\n",
              " 'kino3434',\n",
              " 'patri1973',\n",
              " '52558000aaa',\n",
              " 'olmaz.',\n",
              " 'yk530mg8',\n",
              " 'alimagik1',\n",
              " 'fk9qi21m',\n",
              " 'd04m11',\n",
              " 'sbl571017',\n",
              " 'hpqkoxsn5',\n",
              " 'memjan123',\n",
              " 'WUt9IZzE0OQ7PkNE',\n",
              " 'yqugu927',\n",
              " 'as326159',\n",
              " 'universe2908',\n",
              " '0169395484a',\n",
              " 'asv5o9yu',\n",
              " 'fk9qi21m',\n",
              " 'yk530mg8',\n",
              " 'fahad123',\n",
              " 'asv5o9yu',\n",
              " 'idofo673',\n",
              " 'exitos2009',\n",
              " 'asgaliu11',\n",
              " '283671gus',\n",
              " 'u6c8vhow',\n",
              " 'go7kew7a2po',\n",
              " 'j09000',\n",
              " 'il0vey0u',\n",
              " 'lsdlsd1',\n",
              " 'juliel009',\n",
              " 'yk530mg8',\n",
              " 'a2531106',\n",
              " 'tamanagung6',\n",
              " 'jalingo1',\n",
              " 'kjkjkj1',\n",
              " 'a2531106',\n",
              " 'yk530mg8',\n",
              " 'mickael12',\n",
              " '2021848709.',\n",
              " 'd04m11',\n",
              " 'd04m11',\n",
              " 'hodygid757',\n",
              " 'klara-tershina3H',\n",
              " 'intel1',\n",
              " 'gkrqjs6',\n",
              " 'sknq7m0',\n",
              " 'ga98SIzk0NwhiZaE',\n",
              " 'fk9qi21m',\n",
              " '838188linh',\n",
              " 'gaymaids1',\n",
              " 'kunyukbabi69',\n",
              " 'il0vey0u',\n",
              " 'patri1973',\n",
              " '612035180tok',\n",
              " 'universe2908',\n",
              " 'c3h8bkzr',\n",
              " 'mmm23mm',\n",
              " 'intel1',\n",
              " '2021848709.',\n",
              " 'trabajonet9',\n",
              " 'gkrqjs6',\n",
              " 'v1118714',\n",
              " '838188linh',\n",
              " '746xitEGiqObog',\n",
              " '612035180tok',\n",
              " 'patri1973',\n",
              " 'woon12',\n",
              " 'jUV4dSDQwNwPpA36',\n",
              " '123477889a',\n",
              " 'aquhih220',\n",
              " '10Erjrlmebup0n',\n",
              " 'lsdlsd1',\n",
              " 'go7kew7a2po',\n",
              " 'yk530mg8',\n",
              " 'matiofox08',\n",
              " 'xyws951753',\n",
              " 'kswa2mrv',\n",
              " 'zoobike04',\n",
              " '3vszncp4',\n",
              " 'elyass15@ajilent-ci',\n",
              " 'lsdlsd1',\n",
              " 'ga98SIzk0NwhiZaE',\n",
              " 'ikanez886',\n",
              " 'farrukhcse12',\n",
              " 'ldteugao6',\n",
              " 'asgaliu11',\n",
              " 'jytifok873',\n",
              " 'www32223222',\n",
              " 'teemteem97',\n",
              " 'jytifok873',\n",
              " 'tamanagung6',\n",
              " 'jytifok873',\n",
              " 'kswa2mrv',\n",
              " 'poseidon2011',\n",
              " 'jytifok873',\n",
              " 'megzy123',\n",
              " 'lamborghin1',\n",
              " '2akira2',\n",
              " 'gkrqjs6',\n",
              " '26522876p',\n",
              " 'g3rappa',\n",
              " 'farrukhcse12',\n",
              " '123477889a',\n",
              " 'kino3434',\n",
              " 'lamborghin1',\n",
              " 'TyWM72UNEex8Q8Y',\n",
              " '123net123',\n",
              " 'c3h8bkzr',\n",
              " 'www32223222',\n",
              " 'asv5o9yu',\n",
              " 'elonex24',\n",
              " 'j09000',\n",
              " 'ikanez886',\n",
              " 'yqugu927',\n",
              " '12345yolanda',\n",
              " 'farrukhcse12',\n",
              " 'nicolas05',\n",
              " 'fahad123',\n",
              " 'u6c8vhow',\n",
              " 'tamanagung6',\n",
              " '5gzj5uf',\n",
              " '123477889a',\n",
              " 'mohantra1',\n",
              " 'xyws951753',\n",
              " 'gdfn76',\n",
              " 's0xwym7h',\n",
              " 'xyws951753',\n",
              " 'xyws951753',\n",
              " 'jytifok873',\n",
              " 'bgrvl80',\n",
              " 'bozoxik602',\n",
              " 'farrukhcse12',\n",
              " 'polo2014',\n",
              " '3vszncp4',\n",
              " 'asgaliu11',\n",
              " 'teste10',\n",
              " 'gandhi8513',\n",
              " 'elyass15@ajilent-ci',\n",
              " 'k9b8cz6aj2',\n",
              " 'aquhih220',\n",
              " 's9830950044',\n",
              " 'mohantra1',\n",
              " 'cesarmaio1',\n",
              " 'lsdlsd1',\n",
              " 'tamanagung6',\n",
              " '0169395484a',\n",
              " 'yuri110995',\n",
              " 'kVczcljg4OA25Aeb',\n",
              " 'yitbos77',\n",
              " 'peluchin4',\n",
              " 'as326159',\n",
              " 'barboza221294',\n",
              " 'zgmfnwuq25',\n",
              " 'g3rappa',\n",
              " 'vgnfs495vp',\n",
              " 'yuri110995',\n",
              " 'ikanez886',\n",
              " 'idofo673',\n",
              " 'kino3434',\n",
              " 'owote852',\n",
              " '4osxw4r',\n",
              " '2fakjv',\n",
              " 'nello11',\n",
              " 'snolyuj04',\n",
              " '2021848709.',\n",
              " '929865yt',\n",
              " '2akira2',\n",
              " '6975038lp',\n",
              " 'faranumar91',\n",
              " 'wxS2ztDk4OATjBfI',\n",
              " 'koabcswzt3',\n",
              " 'barboza221294',\n",
              " 'jalal123456',\n",
              " 'elyass15@ajilent-ci',\n",
              " 'elonex24',\n",
              " 'samael666',\n",
              " 'uxyloga692',\n",
              " 'woon12',\n",
              " 'alchimie79',\n",
              " 'juliana19',\n",
              " 'sasuke4',\n",
              " 'ok>bdk',\n",
              " 'bellsuki1',\n",
              " 'wxS2ztDk4OATjBfI',\n",
              " 'exitos2009',\n",
              " 'zgmfnwuq25',\n",
              " '26522876p',\n",
              " 'ejeko677',\n",
              " 'as326159',\n",
              " 'zoobike04',\n",
              " 'bugatti01',\n",
              " 'asv5o9yu',\n",
              " 'change201',\n",
              " 'a0972986650',\n",
              " 'okn9zp9o',\n",
              " 'kry1z9',\n",
              " 'snolyuj04',\n",
              " 'jUV4dSDQwNwPpA36',\n",
              " 's0xwym7h',\n",
              " 'kyxvufl37',\n",
              " 'krumbul123',\n",
              " 'universe2908',\n",
              " 'jUV4dSDQwNwPpA36',\n",
              " 'kyxvufl37',\n",
              " 'ebacuro434',\n",
              " 'uou2dae',\n",
              " 'puegwajy416',\n",
              " 'e667794c1d',\n",
              " 'ekufite742',\n",
              " 'IjUcOtYqAwel725',\n",
              " 'c3h8bkzr',\n",
              " 'damyvo114',\n",
              " '3y6iwef2g6',\n",
              " 'patty94',\n",
              " 'RqsuUsDYxNgr8T40',\n",
              " 'ginger972',\n",
              " 'patri1973',\n",
              " 'xyws951753',\n",
              " 'gozv3e5',\n",
              " 'idofo673',\n",
              " 'asgaliu11',\n",
              " 'schalke04',\n",
              " 'yuri110995',\n",
              " 'rogyh820',\n",
              " 'z7zbgIDkzMQeHUd9',\n",
              " 'lamborghin1',\n",
              " 'qn5xpg3k00',\n",
              " 'kswa2mrv',\n",
              " 'edcmki90',\n",
              " 'change201',\n",
              " 'ass359',\n",
              " 'peluchin4',\n",
              " 'josue12',\n",
              " 'trabajonet9',\n",
              " 'sydney213',\n",
              " 'ikanez886',\n",
              " 'mazdarx7',\n",
              " 'enziitoo1234',\n",
              " 'b4NbTxDEyNgG141J',\n",
              " 'hpqkoxsn5',\n",
              " 'warriors08',\n",
              " 'kyxvufl37',\n",
              " '1597535youssi',\n",
              " 'k1k2k3k4k5k6',\n",
              " 'ejeko677',\n",
              " 'colorado27',\n",
              " 'x8512514',\n",
              " 'ass359',\n",
              " 'ubojig109',\n",
              " 'kikeq102',\n",
              " 'ycqtgdso3',\n",
              " 'j09000',\n",
              " '20010509wang',\n",
              " 'bencike7',\n",
              " 'matiofox08',\n",
              " 'ebacuro434',\n",
              " 'lamborghin1',\n",
              " 'enziitoo1234',\n",
              " 'pHyqueDIyNQ8vmhb',\n",
              " 'bgrvl80',\n",
              " 'demon10',\n",
              " 'planes123',\n",
              " 'abizar08',\n",
              " 'schalke04',\n",
              " 'josue12',\n",
              " '2fakjv',\n",
              " '6tequila6',\n",
              " 'ikanez886',\n",
              " 'warriors08',\n",
              " 'sbl571017',\n",
              " 'pato221182',\n",
              " 'sarahi1628',\n",
              " 'xyws951753',\n",
              " 'exitos2009',\n",
              " 'yu86640132',\n",
              " 'z888888',\n",
              " 'a2486315',\n",
              " 'ekufite742',\n",
              " 'a0972986650',\n",
              " 'mike09',\n",
              " 'jonothepoop1',\n",
              " 'aquhih220',\n",
              " 'il0vey0u',\n",
              " '123maxbala',\n",
              " 'hodygid757',\n",
              " 'njmania114',\n",
              " 'k9b8cz6aj2',\n",
              " 'aosmaxd0',\n",
              " 'icap12',\n",
              " 'qn5xpg3k00',\n",
              " '123nicole',\n",
              " 'pHyqueDIyNQ8vmhb',\n",
              " 'j09000',\n",
              " 'xiau5ff',\n",
              " 'marita1',\n",
              " 'gandhi8513',\n",
              " '929865yt',\n",
              " 'cockw0mble',\n",
              " 'warriors08',\n",
              " 'meriton23',\n",
              " 'w9209640',\n",
              " '0112358mayin0',\n",
              " 'afs34214',\n",
              " 'uou2dae',\n",
              " 'mayur@8netinfotech',\n",
              " 'cesarmaio1',\n",
              " 'lamborghin1',\n",
              " 'kikeq102',\n",
              " 'bencike7',\n",
              " 'bozoxik602',\n",
              " 'yut0838828185',\n",
              " 'openup12',\n",
              " 'hisnipes1',\n",
              " '7942vikas',\n",
              " 'witek1709',\n",
              " 'patty94',\n",
              " 'sysoja794',\n",
              " 'sanjaime1',\n",
              " 'jalal123456',\n",
              " 'khmer100.03278&?><Mnb',\n",
              " '0VKWoODkwOAc0pZK',\n",
              " 'lsdlsd1',\n",
              " 'nicolas05',\n",
              " 'kyodai666',\n",
              " 'ebacuro434',\n",
              " 'matiz4533',\n",
              " 'sarahi1628',\n",
              " 'ebacuro434',\n",
              " 'z888888',\n",
              " 'mayur@8netinfotech',\n",
              " 'z888888',\n",
              " 'moimoimoi9',\n",
              " 'jbtcnd6',\n",
              " 'jr88072635',\n",
              " 'oscar69',\n",
              " 'hodygid757',\n",
              " '5gzj5uf',\n",
              " 'sofietou74',\n",
              " 'afs34214',\n",
              " 'frhnsvelhfr1',\n",
              " '1972vishara',\n",
              " '283671gus',\n",
              " 'sknq7m0',\n",
              " '0169395484a',\n",
              " 'llahetihw1',\n",
              " 'd6VyrkFV6oblxNs5N8cW',\n",
              " 'alimagik1',\n",
              " 'owote852',\n",
              " 'gaymaids1',\n",
              " 'teste10',\n",
              " 'xp;ysmybst',\n",
              " 'qn5xpg3k00',\n",
              " '2010server',\n",
              " 'barra23',\n",
              " 'z7zbgIDkzMQeHUd9',\n",
              " 'juany57',\n",
              " '612035180tok',\n",
              " '4165000yakub',\n",
              " 'afavin964',\n",
              " 'pazzini24',\n",
              " 'owote852',\n",
              " 'gozv3e5',\n",
              " 'IjUcOtYqAwel725',\n",
              " '123net123',\n",
              " '07dpv1127b',\n",
              " 'pazzini24',\n",
              " 'finisterra1',\n",
              " 'z3ro1sm',\n",
              " 'olmaz.',\n",
              " 'clyioqzgw42',\n",
              " '1qa2ws3ed4r',\n",
              " 'sofietou74',\n",
              " 'uou2dae',\n",
              " 'uxyloga692',\n",
              " 'asdasdf1',\n",
              " 'go7kew7a2po',\n",
              " 'tucagu356',\n",
              " 'gerardway1',\n",
              " 'ninja420',\n",
              " 'hlQ8gDTExMQWkeda',\n",
              " '838188linh',\n",
              " '2GnTStTE4Mw4MTwv',\n",
              " 'killer5',\n",
              " 'den019520',\n",
              " 'obstacle25',\n",
              " 'RPFUOUDQwMwVW0AS',\n",
              " 'kP82iqDMxNgBMxBP',\n",
              " 'VMjz4eTkxNAbOyUU',\n",
              " 'gerardway1',\n",
              " 'nK0yKXTU0NQHZE2e',\n",
              " 'moken7',\n",
              " 'clave08',\n",
              " 'han19660120',\n",
              " 'autan88',\n",
              " 'taiga0088',\n",
              " 'bozoxik602',\n",
              " 'jUV4dSDQwNwPpA36',\n",
              " 'hayhayq2',\n",
              " '26522876p',\n",
              " 'viri13',\n",
              " 'd6VyrkFV6oblxNs5N8cW',\n",
              " 'matiofox08',\n",
              " 'aslanmarco007',\n",
              " 'as8594505',\n",
              " 'bellsuki1',\n",
              " 'ixehawojEPe418',\n",
              " 'teste10',\n",
              " 'balamuc123',\n",
              " '4fqa52vecr',\n",
              " '64whbrb351',\n",
              " 'taurofive16',\n",
              " 'olmaz.',\n",
              " 'kunyukbabi69',\n",
              " 'metopelo1623',\n",
              " 'kdl9cl53',\n",
              " 'clave2013',\n",
              " 'xW8-3w7-MFB-CKH',\n",
              " 'trabajonet9',\n",
              " 'senghong2009',\n",
              " 'lamborghin1',\n",
              " 'qopybuxi2',\n",
              " '123net123',\n",
              " 'tahseen75',\n",
              " 'wxS2ztDk4OATjBfI',\n",
              " 'lamborghin1',\n",
              " 'peluchin4',\n",
              " '0169395484a',\n",
              " '248sUqiFEJuRag',\n",
              " 'a0972986650',\n",
              " 'kah4544875',\n",
              " '0169395484a',\n",
              " 'mashhood_afzal21087',\n",
              " '3vszncp4',\n",
              " 'gandhi8513',\n",
              " 'buqodym199',\n",
              " 'y0unus',\n",
              " '0169395484a',\n",
              " 'kzde5577',\n",
              " 'xanyrum650',\n",
              " 'just1n0k',\n",
              " 'jerusalem393',\n",
              " 'oioo9og',\n",
              " 'khaled12',\n",
              " 'matiofox08',\n",
              " 'www32223222',\n",
              " '2010server',\n",
              " 'afs34214',\n",
              " 'elonex24',\n",
              " 'a110804032',\n",
              " 'polo2014',\n",
              " 'prisonbreak1',\n",
              " 'password0880',\n",
              " '1597535youssi',\n",
              " 'pikey231',\n",
              " 'kayal123',\n",
              " 'uou2dae',\n",
              " 'mayur@8netinfotech',\n",
              " 'cUFUSYKIPuGo024',\n",
              " 'ypodahe201',\n",
              " 'poilkjmnb987',\n",
              " 'pato221182',\n",
              " '147963asd',\n",
              " 'zu20081965',\n",
              " 'ok>bdk',\n",
              " '2010server',\n",
              " 'sono11',\n",
              " 'clave08',\n",
              " 'josef0867',\n",
              " 'pmcm110118008',\n",
              " 'vehat387',\n",
              " 'xW8-3w7-MFB-CKH',\n",
              " '612035180tok',\n",
              " 'ypodahe201',\n",
              " 'clave2013',\n",
              " '631ihOZogELoVap',\n",
              " '4fqa52vecr',\n",
              " '4165000yakub',\n",
              " 'cerner09',\n",
              " 'kayal123',\n",
              " '6975038lp',\n",
              " 'idofo673',\n",
              " 'ejeko677',\n",
              " 't8IkFRDIxMAFV2JW',\n",
              " 'xf6385494',\n",
              " 'robot425',\n",
              " 'sd6x9s3s',\n",
              " 'nello11',\n",
              " 'woaini0',\n",
              " 'qn5xpg3k00',\n",
              " 'koabcswzt3',\n",
              " 'ocadezi586',\n",
              " 'tim80327',\n",
              " '0112358mayin0',\n",
              " '123477889a',\n",
              " 'potatobus150',\n",
              " 'juliana19',\n",
              " 'pazzini24',\n",
              " 'laedbchsx687',\n",
              " 'AVYq1lDE4MgAZfNt',\n",
              " 'w9209640',\n",
              " 'senghong2009',\n",
              " 'juliel009',\n",
              " 'mussuh4',\n",
              " 'ga98SIzk0NwhiZaE',\n",
              " 'moken7',\n",
              " 'meriton23',\n",
              " 'metopelo1623',\n",
              " 'snolyuj04',\n",
              " 'v10rica',\n",
              " 'jerusalem393',\n",
              " 'ebogel225',\n",
              " 'seller1',\n",
              " 'lollies1989',\n",
              " 'ajyrew547',\n",
              " 'lrhxmevb620',\n",
              " '215466kenyi',\n",
              " 'popo0404',\n",
              " 'gkrqjs6',\n",
              " 'c1brb3lt',\n",
              " 'kdl9cl53',\n",
              " 'kino3434',\n",
              " 'hosna1368',\n",
              " 'ryjypes139',\n",
              " 'yitbos77',\n",
              " '123net123',\n",
              " 'k1k2k3k4k5k6',\n",
              " 'keithar1',\n",
              " 'planes123',\n",
              " 'wbtdrieus345',\n",
              " 'aslanmarco007',\n",
              " 'bang6k',\n",
              " 'uxyloga692',\n",
              " '1qa2ws3ed4r',\n",
              " 'mussuh4',\n",
              " 'skoda06',\n",
              " 'xtswdypgh936',\n",
              " 'kevin24',\n",
              " 'u03kz6ez',\n",
              " '07dpv1127b',\n",
              " '123net123',\n",
              " 'groster152',\n",
              " 'control9',\n",
              " 'josef0867',\n",
              " 'desmondkok21',\n",
              " 'we34dar88',\n",
              " 'njmania114',\n",
              " 'klara-tershina3H',\n",
              " 'olmaz.',\n",
              " '2GnTStTE4Mw4MTwv',\n",
              " 'matha81',\n",
              " 'isqizkg1',\n",
              " 'xW8-3w7-MFB-CKH',\n",
              " 'as8594505',\n",
              " 'planes123',\n",
              " 'nhiannei040',\n",
              " 'tukaxo486',\n",
              " 'bgrvl80',\n",
              " 'ejeko677',\n",
              " 'zoobike04',\n",
              " 'Truelove19902610',\n",
              " 'a0972986650',\n",
              " 'klara-tershina3H',\n",
              " 'kXzWOozU2MQ1Jv1h',\n",
              " 'yqugu927',\n",
              " '929865yt',\n",
              " 'desmondkok21',\n",
              " '07dpv1127b',\n",
              " '33kanun03',\n",
              " 'kenneth610',\n",
              " 'acgyj188',\n",
              " 'gandhi8513',\n",
              " 'Scipio21152030067254',\n",
              " 'fbjurcd961',\n",
              " 'avanakit72',\n",
              " 'sydney213',\n",
              " 'juany57',\n",
              " 'elonex24',\n",
              " '030005qw',\n",
              " 'yqugu927',\n",
              " '1ngaymuadong',\n",
              " 'megzy123',\n",
              " 'pxjwmeqyn5',\n",
              " '5gzj5uf',\n",
              " 'satelite31',\n",
              " 'cUFUSYKIPuGo024',\n",
              " 'cerner09',\n",
              " 'gdfn76',\n",
              " 'hlQ8gDTExMQWkeda',\n",
              " 'sandra0547',\n",
              " 'iacool99',\n",
              " '0VKWoODkwOAc0pZK',\n",
              " 'gpc151192',\n",
              " '1qa2ws3ed4r',\n",
              " 'wisal1234',\n",
              " 'hisnipes1',\n",
              " '33kanun03',\n",
              " 'tia150979',\n",
              " 'pmcm110118008',\n",
              " 'seller1',\n",
              " 'yitbos77',\n",
              " 'urban1',\n",
              " 'g067057895',\n",
              " 'b4NbTxDEyNgG141J',\n",
              " 'hlQ8gDTExMQWkeda',\n",
              " 'kayal123',\n",
              " 'ass359',\n",
              " 'iL1BEmTUyMg8YYbn',\n",
              " 'luiskeko31',\n",
              " 'zgmfnwuq25',\n",
              " 'muoaqxwc21',\n",
              " 'z3ro1sm',\n",
              " 'qwekl12',\n",
              " 'iL1BEmTUyMg8YYbn',\n",
              " 'groster152',\n",
              " 'mashhood_afzal21087',\n",
              " 'icap12',\n",
              " 'mdaffandi74',\n",
              " 'p3rf3ct0',\n",
              " 'JEQuloqOFUd102',\n",
              " '2fakjv',\n",
              " 'oscar69',\n",
              " 'alimagik1',\n",
              " 'prisonbreak1',\n",
              " 'xyws951753',\n",
              " 'caramelo9',\n",
              " 'njmania114',\n",
              " 'uxyloga692',\n",
              " 'keithar1',\n",
              " 'k9b8cz6aj2',\n",
              " 'atigi839',\n",
              " 'avanakit72',\n",
              " 'x8512514',\n",
              " 'xtswdypgh936',\n",
              " 'princ3sa',\n",
              " 'jorge1489',\n",
              " 'asdasdf1',\n",
              " 'ydd45ee',\n",
              " 'k9b8cz6aj2',\n",
              " 'ns2b0727',\n",
              " 'sarahi1628',\n",
              " 'sono11',\n",
              " 'tspirits08',\n",
              " 'vardhan19',\n",
              " '1w2e3s4l5e6y',\n",
              " 'bjolgvhs69',\n",
              " '0870330135a',\n",
              " '1qa2ws3ed4rf',\n",
              " 'tomas7896',\n",
              " '0870330135a',\n",
              " '5874813o',\n",
              " 'c3h8bkzr',\n",
              " 'metopelo1623',\n",
              " 'gtlek',\n",
              " '612035180tok',\n",
              " '2863e00016',\n",
              " 'pardalgg5',\n",
              " 'visi7k1yr',\n",
              " '1991vikash',\n",
              " 'synyxyr723',\n",
              " 'upomel180',\n",
              " 'hosna1368',\n",
              " 'xzeyfbi495',\n",
              " '1jancok',\n",
              " 'p@sslng2diword',\n",
              " 'b4NbTxDEyNgG141J',\n",
              " 'kuntz80',\n",
              " 'jUV4dSDQwNwPpA36',\n",
              " 'josef0867',\n",
              " 'laedbchsx687',\n",
              " 'tomas7896',\n",
              " 'xyws951753',\n",
              " 'lollies1989',\n",
              " 'khurram_',\n",
              " 'sandra0547',\n",
              " '07dpv1127b',\n",
              " 'JEQuloqOFUd102',\n",
              " 'ebacuro434',\n",
              " 'studenko123',\n",
              " 'iubat09',\n",
              " 'ninja420',\n",
              " 'woaini0',\n",
              " 'plumilla1',\n",
              " 'ezekiel720',\n",
              " 'ginger972',\n",
              " 'ihana906',\n",
              " 'eth36498',\n",
              " '0112358mayin0',\n",
              " 'sebo82',\n",
              " 'elabadmin1386',\n",
              " 'skoda06',\n",
              " 'kunyukbabi69',\n",
              " 'a2486315',\n",
              " 'IRZA98',\n",
              " 'spl51190595',\n",
              " 'natalia12',\n",
              " 'asv5o9yu',\n",
              " '12345yolanda',\n",
              " 'potatobus150',\n",
              " 'matiz4533',\n",
              " '5gzj5uf',\n",
              " 'asakapa22',\n",
              " 'as326159',\n",
              " 'j09000',\n",
              " 'roxana1993',\n",
              " 'okn9zp9o',\n",
              " 'jcav26',\n",
              " 'p@sslng2diword',\n",
              " 'diegote10',\n",
              " 'woaini0',\n",
              " 'edcmki90',\n",
              " 'k9b8cz6aj2',\n",
              " 'afavin964',\n",
              " 'mario489800',\n",
              " 'cyborged69',\n",
              " 'den019520',\n",
              " 'sofietou74',\n",
              " 'aio42fv',\n",
              " '20Dgw7TQ0OQVdly7',\n",
              " 'c1brb3lt',\n",
              " 'hot622204',\n",
              " 'ninja420',\n",
              " 'lollies1989',\n",
              " 'ga98SIzk0NwhiZaE',\n",
              " '2863e00016',\n",
              " 'uxyloga692',\n",
              " 'senghong2009',\n",
              " 'regodib479',\n",
              " 'a2531106',\n",
              " '26522876p',\n",
              " '3vszncp4',\n",
              " 'k1k2k3k4k5k6',\n",
              " 'jcav26',\n",
              " 'acetita478',\n",
              " 'amandine666',\n",
              " 'yitbos77',\n",
              " 'speedracer10',\n",
              " 'mndzbqkv651',\n",
              " 'samael666',\n",
              " 'ahibyg892',\n",
              " 'poilkjmnb987',\n",
              " '4osxw4r',\n",
              " 'emufat882',\n",
              " 'u03kz6ez',\n",
              " 'ejeko677',\n",
              " 'deivid1991',\n",
              " 'laedbchsx687',\n",
              " 'ok>bdk',\n",
              " '123maxbala',\n",
              " 'gonzalez1559',\n",
              " 'AS0130066',\n",
              " 'ldteugao6',\n",
              " 'barboza221294',\n",
              " 'a1233210',\n",
              " 'go7kew7a2po',\n",
              " 'jntjmh7',\n",
              " 'iacool99',\n",
              " 'goony01',\n",
              " 'faqih82',\n",
              " 'wuzyci421',\n",
              " 'samael666',\n",
              " 'BsKbJHTY4NgesCOs',\n",
              " 'mario489800',\n",
              " 'gill02',\n",
              " 'designer1206',\n",
              " 'ebacuro434',\n",
              " 'PSVkampioen2013',\n",
              " 'jalal123456',\n",
              " 'password0880',\n",
              " 'elperro1',\n",
              " 'cUFUSYKIPuGo024',\n",
              " 'kXzWOozU2MQ1Jv1h',\n",
              " 'LypOJUfuLYrO477',\n",
              " 'urban1',\n",
              " 'yu86640132',\n",
              " 'lofebop480',\n",
              " '123maxbala',\n",
              " 'ryjypes139',\n",
              " 'poseidon2011',\n",
              " 'amoadios321',\n",
              " 'maulana79',\n",
              " 'WUt9IZzE0OQ7PkNE',\n",
              " 'yu4cmn',\n",
              " 'aosmaxd0',\n",
              " 'taiga0088',\n",
              " '030005qw',\n",
              " 'RRaa--72783530081984',\n",
              " 'hasan18',\n",
              " 'yy4129',\n",
              " 'v1s2c3456',\n",
              " 'jEzZXUTE3MgJ4fVk',\n",
              " '05bumd',\n",
              " 'aan2900220',\n",
              " 'jonothepoop1',\n",
              " 'pazzini24',\n",
              " '12345yolanda',\n",
              " 'anon13',\n",
              " 'ryjypes139',\n",
              " 'tollak123',\n",
              " 'autan88',\n",
              " 'willboss13',\n",
              " 'xawipy995',\n",
              " 'zeeshanbhai1',\n",
              " '000webhostcom',\n",
              " 'krumbul123',\n",
              " 'kabrito1',\n",
              " 'bang6k',\n",
              " 'hasan18',\n",
              " '00J46LTAxMgME7C4',\n",
              " 'ebacuro434',\n",
              " '3f5xd41l0ik7',\n",
              " '5874813o',\n",
              " 'satelite31',\n",
              " 'jeeves123',\n",
              " 'samael666',\n",
              " 'zb08110229',\n",
              " 'xtswdypgh936',\n",
              " 'grazi0201',\n",
              " 'sknq7m0',\n",
              " 'icap12',\n",
              " 'szdectoj2',\n",
              " 'ycqtgdso3',\n",
              " '33kanun03',\n",
              " '210496av',\n",
              " 'u03kz6ez',\n",
              " 'ejeko677',\n",
              " 'p@sslng2diword',\n",
              " 'LypOJUfuLYrO477',\n",
              " 'fbjurcd961',\n",
              " 'hodaq103',\n",
              " 'hisnipes1',\n",
              " 'rLLh4WDQ2OAWbDO5',\n",
              " 'zoobike04',\n",
              " 'hotdog20',\n",
              " 'limichan99',\n",
              " 'Herzberg@ABBOTT33656888commerce',\n",
              " 'k9b8cz6aj2',\n",
              " 'alodise603',\n",
              " 'atigi839',\n",
              " 'atigi839',\n",
              " 'savas123x',\n",
              " 'idofo673',\n",
              " '838188linh',\n",
              " '12345687vini',\n",
              " 'jytifok873',\n",
              " 'jytifok873',\n",
              " 'josue12',\n",
              " 'labarge1',\n",
              " 'kXzWOozU2MQ1Jv1h',\n",
              " 'kabrito1',\n",
              " 'ci0n3exor',\n",
              " 'd4xQ3LjUwMQFVCYQ',\n",
              " 'v1118714',\n",
              " 'franczuk33',\n",
              " '01161590m',\n",
              " 'openup12',\n",
              " 'aosmaxd0',\n",
              " 'kahcyxvj24',\n",
              " 'jbiz04h4',\n",
              " 'folashade1',\n",
              " 'gill02',\n",
              " 'uuuu123',\n",
              " 'ubojig109',\n",
              " 'pikey231',\n",
              " 'ilunia20',\n",
              " 'herherher1',\n",
              " 'ocadezi586',\n",
              " 'in595462',\n",
              " 'gjm666',\n",
              " '0lELoCDI1NAy8u7D',\n",
              " '2010server',\n",
              " 'mmm23mm',\n",
              " '0870330135a',\n",
              " 'uzifyc502',\n",
              " 'sbl571017',\n",
              " '1katertje',\n",
              " 'mxvurqyws5',\n",
              " 'kate13',\n",
              " 'keithcutlip99',\n",
              " 'shotiko18',\n",
              " 'just1n0k',\n",
              " 'gedu1t1ah',\n",
              " 'taurofive16',\n",
              " 'mtvwyz001',\n",
              " '1A2Z3E4R',\n",
              " 'RPFUOUDQwMwVW0AS',\n",
              " 'uzifyc502',\n",
              " 'trust123',\n",
              " 'patata91',\n",
              " 'RPFUOUDQwMwVW0AS',\n",
              " 'x57669',\n",
              " 'uvazyd135',\n",
              " 'mpompo1',\n",
              " 'mosad999',\n",
              " 'meena25',\n",
              " 'adfbwrnt4',\n",
              " 'www32223222',\n",
              " 'khaled12',\n",
              " 'p0lp0l',\n",
              " 'terrassa6',\n",
              " 'jcav26',\n",
              " 'cztPECjY2MQGFxnN',\n",
              " 'gedu1t1ah',\n",
              " 'wasanun13',\n",
              " 'alhama11408',\n",
              " 'tomas7896',\n",
              " 'L2i2ZwTg1MQajeBm',\n",
              " 'kong0074',\n",
              " 'gozv3e5',\n",
              " '0847440744z',\n",
              " 'akucinta12',\n",
              " 'eeae14li',\n",
              " 'bugatti01',\n",
              " '631ihOZogELoVap',\n",
              " 'mialr325',\n",
              " 'ldteugao6',\n",
              " 'jrj7tst383lv',\n",
              " 'gaymaids1',\n",
              " 'coy29061994',\n",
              " 'graciela2',\n",
              " 'isqizkg1',\n",
              " 'X9WVojjE4MgVAIiR',\n",
              " 'juliana00',\n",
              " 'clave08',\n",
              " 'taulant123',\n",
              " 'beijing168',\n",
              " 'irivur594',\n",
              " 'kenneth610',\n",
              " 'autan88',\n",
              " 'hayhayq2',\n",
              " '123charger',\n",
              " 'cockw0mble',\n",
              " 'Scipio21152030067254',\n",
              " '72o0yzekib4',\n",
              " 'jekkmoeder>',\n",
              " 'witek1709',\n",
              " '19821010a',\n",
              " 'parvizrus13',\n",
              " 'v8porwar3',\n",
              " 'topgan22',\n",
              " 'lrhxmevb620',\n",
              " 'IP1yaTDUzOQWAeI5',\n",
              " ...]"
            ]
          },
          "metadata": {
            "tags": []
          },
          "execution_count": 16
        }
      ]
    },
    {
      "cell_type": "markdown",
      "metadata": {
        "id": "tYaZLJclJx4d"
      },
      "source": [
        "#### create a custom function to split input into characters of list"
      ]
    },
    {
      "cell_type": "code",
      "metadata": {
        "id": "tiP68fz0Jx4d"
      },
      "source": [
        "def word_divide_char(inputs):\n",
        "    character=[]\n",
        "    for i in inputs:\n",
        "        character.append(i)\n",
        "    return character"
      ],
      "execution_count": 17,
      "outputs": []
    },
    {
      "cell_type": "code",
      "metadata": {
        "id": "QwD-_6JQJx4d",
        "colab": {
          "base_uri": "https://localhost:8080/"
        },
        "outputId": "5a84bc15-3b3c-430e-e131-a41d370bad90"
      },
      "source": [
        "word_divide_char('kzde5577')"
      ],
      "execution_count": 18,
      "outputs": [
        {
          "output_type": "execute_result",
          "data": {
            "text/plain": [
              "['k', 'z', 'd', 'e', '5', '5', '7', '7']"
            ]
          },
          "metadata": {
            "tags": []
          },
          "execution_count": 18
        }
      ]
    },
    {
      "cell_type": "markdown",
      "metadata": {
        "id": "sQ3c206QXso6"
      },
      "source": [
        "### import TF-IDF vectorizer to convert String data into numerical data\n"
      ]
    },
    {
      "cell_type": "code",
      "metadata": {
        "id": "vx-KYNrWXyUW"
      },
      "source": [
        "from sklearn.feature_extraction.text import TfidfVectorizer"
      ],
      "execution_count": 19,
      "outputs": []
    },
    {
      "cell_type": "code",
      "metadata": {
        "id": "I_Dd8XKmX_N1"
      },
      "source": [
        "vectorizer=TfidfVectorizer(tokenizer=word_divide_char)"
      ],
      "execution_count": 20,
      "outputs": []
    },
    {
      "cell_type": "markdown",
      "metadata": {
        "id": "ZMJrVDZWYGwU"
      },
      "source": [
        "#### apply TF-IDF vectorizer on data"
      ]
    },
    {
      "cell_type": "code",
      "metadata": {
        "id": "cSBkA3r-YJ7c"
      },
      "source": [
        "X=vectorizer.fit_transform(x)"
      ],
      "execution_count": 21,
      "outputs": []
    },
    {
      "cell_type": "code",
      "metadata": {
        "colab": {
          "base_uri": "https://localhost:8080/"
        },
        "id": "a3EcIbhOYctZ",
        "outputId": "c4d81537-a103-4986-ae2f-297748ae0712"
      },
      "source": [
        "X.shape"
      ],
      "execution_count": 22,
      "outputs": [
        {
          "output_type": "execute_result",
          "data": {
            "text/plain": [
              "(161085, 100)"
            ]
          },
          "metadata": {
            "tags": []
          },
          "execution_count": 22
        }
      ]
    },
    {
      "cell_type": "code",
      "metadata": {
        "colab": {
          "base_uri": "https://localhost:8080/"
        },
        "id": "LHjiAobpYio9",
        "outputId": "75abb5af-3bf9-4ce6-d715-3bcabd6b7658"
      },
      "source": [
        "vectorizer.get_feature_names()"
      ],
      "execution_count": 23,
      "outputs": [
        {
          "output_type": "execute_result",
          "data": {
            "text/plain": [
              "['\\x05',\n",
              " '\\x0f',\n",
              " '\\x16',\n",
              " '\\x19',\n",
              " '\\x1b',\n",
              " '\\x1c',\n",
              " '\\x1e',\n",
              " ' ',\n",
              " '!',\n",
              " '\"',\n",
              " '#',\n",
              " '$',\n",
              " '%',\n",
              " '&',\n",
              " '(',\n",
              " ')',\n",
              " '*',\n",
              " '+',\n",
              " '-',\n",
              " '.',\n",
              " '/',\n",
              " '0',\n",
              " '1',\n",
              " '2',\n",
              " '3',\n",
              " '4',\n",
              " '5',\n",
              " '6',\n",
              " '7',\n",
              " '8',\n",
              " '9',\n",
              " ';',\n",
              " '<',\n",
              " '=',\n",
              " '>',\n",
              " '?',\n",
              " '@',\n",
              " '[',\n",
              " '\\\\',\n",
              " ']',\n",
              " '^',\n",
              " '_',\n",
              " '`',\n",
              " 'a',\n",
              " 'b',\n",
              " 'c',\n",
              " 'd',\n",
              " 'e',\n",
              " 'f',\n",
              " 'g',\n",
              " 'h',\n",
              " 'i',\n",
              " 'j',\n",
              " 'k',\n",
              " 'l',\n",
              " 'm',\n",
              " 'n',\n",
              " 'o',\n",
              " 'p',\n",
              " 'q',\n",
              " 'r',\n",
              " 's',\n",
              " 't',\n",
              " 'u',\n",
              " 'v',\n",
              " 'w',\n",
              " 'x',\n",
              " 'y',\n",
              " 'z',\n",
              " '{',\n",
              " '}',\n",
              " '~',\n",
              " '¦',\n",
              " '«',\n",
              " '°',\n",
              " '±',\n",
              " '²',\n",
              " '³',\n",
              " '´',\n",
              " '¶',\n",
              " '·',\n",
              " '¹',\n",
              " '¾',\n",
              " '¿',\n",
              " 'à',\n",
              " 'ä',\n",
              " 'å',\n",
              " 'æ',\n",
              " 'ï',\n",
              " 'ñ',\n",
              " 'ò',\n",
              " 'ó',\n",
              " 'ô',\n",
              " 'õ',\n",
              " 'ö',\n",
              " 'ú',\n",
              " 'ü',\n",
              " 'þ',\n",
              " 'ÿ',\n",
              " '‚']"
            ]
          },
          "metadata": {
            "tags": []
          },
          "execution_count": 23
        }
      ]
    },
    {
      "cell_type": "code",
      "metadata": {
        "id": "Jdk7CjmLYkFM"
      },
      "source": [
        "first_document_vector=X[0]\n",
        "first_document_vectorfirst_document_vector=X[0]"
      ],
      "execution_count": 24,
      "outputs": []
    },
    {
      "cell_type": "code",
      "metadata": {
        "colab": {
          "base_uri": "https://localhost:8080/"
        },
        "id": "eZTtlAN4ZEE8",
        "outputId": "2541285e-4a0d-4427-b4c6-c81e7f2ec429"
      },
      "source": [
        "first_document_vector.T.todense()"
      ],
      "execution_count": 25,
      "outputs": [
        {
          "output_type": "execute_result",
          "data": {
            "text/plain": [
              "matrix([[0.        ],\n",
              "        [0.        ],\n",
              "        [0.        ],\n",
              "        [0.        ],\n",
              "        [0.        ],\n",
              "        [0.        ],\n",
              "        [0.        ],\n",
              "        [0.        ],\n",
              "        [0.        ],\n",
              "        [0.        ],\n",
              "        [0.        ],\n",
              "        [0.        ],\n",
              "        [0.        ],\n",
              "        [0.        ],\n",
              "        [0.        ],\n",
              "        [0.        ],\n",
              "        [0.        ],\n",
              "        [0.        ],\n",
              "        [0.        ],\n",
              "        [0.        ],\n",
              "        [0.        ],\n",
              "        [0.        ],\n",
              "        [0.        ],\n",
              "        [0.        ],\n",
              "        [0.        ],\n",
              "        [0.        ],\n",
              "        [0.56755202],\n",
              "        [0.        ],\n",
              "        [0.59310979],\n",
              "        [0.        ],\n",
              "        [0.        ],\n",
              "        [0.        ],\n",
              "        [0.        ],\n",
              "        [0.        ],\n",
              "        [0.        ],\n",
              "        [0.        ],\n",
              "        [0.        ],\n",
              "        [0.        ],\n",
              "        [0.        ],\n",
              "        [0.        ],\n",
              "        [0.        ],\n",
              "        [0.        ],\n",
              "        [0.        ],\n",
              "        [0.        ],\n",
              "        [0.        ],\n",
              "        [0.        ],\n",
              "        [0.2847644 ],\n",
              "        [0.21979452],\n",
              "        [0.        ],\n",
              "        [0.        ],\n",
              "        [0.        ],\n",
              "        [0.        ],\n",
              "        [0.        ],\n",
              "        [0.2911161 ],\n",
              "        [0.        ],\n",
              "        [0.        ],\n",
              "        [0.        ],\n",
              "        [0.        ],\n",
              "        [0.        ],\n",
              "        [0.        ],\n",
              "        [0.        ],\n",
              "        [0.        ],\n",
              "        [0.        ],\n",
              "        [0.        ],\n",
              "        [0.        ],\n",
              "        [0.        ],\n",
              "        [0.        ],\n",
              "        [0.        ],\n",
              "        [0.334599  ],\n",
              "        [0.        ],\n",
              "        [0.        ],\n",
              "        [0.        ],\n",
              "        [0.        ],\n",
              "        [0.        ],\n",
              "        [0.        ],\n",
              "        [0.        ],\n",
              "        [0.        ],\n",
              "        [0.        ],\n",
              "        [0.        ],\n",
              "        [0.        ],\n",
              "        [0.        ],\n",
              "        [0.        ],\n",
              "        [0.        ],\n",
              "        [0.        ],\n",
              "        [0.        ],\n",
              "        [0.        ],\n",
              "        [0.        ],\n",
              "        [0.        ],\n",
              "        [0.        ],\n",
              "        [0.        ],\n",
              "        [0.        ],\n",
              "        [0.        ],\n",
              "        [0.        ],\n",
              "        [0.        ],\n",
              "        [0.        ],\n",
              "        [0.        ],\n",
              "        [0.        ],\n",
              "        [0.        ],\n",
              "        [0.        ],\n",
              "        [0.        ]])"
            ]
          },
          "metadata": {
            "tags": []
          },
          "execution_count": 25
        }
      ]
    },
    {
      "cell_type": "code",
      "metadata": {
        "id": "bKZEjfEBZIFO",
        "colab": {
          "base_uri": "https://localhost:8080/",
          "height": 417
        },
        "outputId": "702f2e8e-5ffc-4e38-ff47-08bb4db665dc"
      },
      "source": [
        "df=pd.DataFrame(first_document_vector.T.todense(),index=vectorizer.get_feature_names(),columns=['TF-IDF'])\n",
        "df.sort_values(by=['TF-IDF'],ascending=False)"
      ],
      "execution_count": 27,
      "outputs": [
        {
          "output_type": "execute_result",
          "data": {
            "text/html": [
              "<div>\n",
              "<style scoped>\n",
              "    .dataframe tbody tr th:only-of-type {\n",
              "        vertical-align: middle;\n",
              "    }\n",
              "\n",
              "    .dataframe tbody tr th {\n",
              "        vertical-align: top;\n",
              "    }\n",
              "\n",
              "    .dataframe thead th {\n",
              "        text-align: right;\n",
              "    }\n",
              "</style>\n",
              "<table border=\"1\" class=\"dataframe\">\n",
              "  <thead>\n",
              "    <tr style=\"text-align: right;\">\n",
              "      <th></th>\n",
              "      <th>TF-IDF</th>\n",
              "    </tr>\n",
              "  </thead>\n",
              "  <tbody>\n",
              "    <tr>\n",
              "      <th>7</th>\n",
              "      <td>0.593110</td>\n",
              "    </tr>\n",
              "    <tr>\n",
              "      <th>5</th>\n",
              "      <td>0.567552</td>\n",
              "    </tr>\n",
              "    <tr>\n",
              "      <th>z</th>\n",
              "      <td>0.334599</td>\n",
              "    </tr>\n",
              "    <tr>\n",
              "      <th>k</th>\n",
              "      <td>0.291116</td>\n",
              "    </tr>\n",
              "    <tr>\n",
              "      <th>d</th>\n",
              "      <td>0.284764</td>\n",
              "    </tr>\n",
              "    <tr>\n",
              "      <th>...</th>\n",
              "      <td>...</td>\n",
              "    </tr>\n",
              "    <tr>\n",
              "      <th>;</th>\n",
              "      <td>0.000000</td>\n",
              "    </tr>\n",
              "    <tr>\n",
              "      <th>9</th>\n",
              "      <td>0.000000</td>\n",
              "    </tr>\n",
              "    <tr>\n",
              "      <th>8</th>\n",
              "      <td>0.000000</td>\n",
              "    </tr>\n",
              "    <tr>\n",
              "      <th>6</th>\n",
              "      <td>0.000000</td>\n",
              "    </tr>\n",
              "    <tr>\n",
              "      <th>‚</th>\n",
              "      <td>0.000000</td>\n",
              "    </tr>\n",
              "  </tbody>\n",
              "</table>\n",
              "<p>100 rows × 1 columns</p>\n",
              "</div>"
            ],
            "text/plain": [
              "      TF-IDF\n",
              "7   0.593110\n",
              "5   0.567552\n",
              "z   0.334599\n",
              "k   0.291116\n",
              "d   0.284764\n",
              "..       ...\n",
              ";   0.000000\n",
              "9   0.000000\n",
              "8   0.000000\n",
              "6   0.000000\n",
              "‚   0.000000\n",
              "\n",
              "[100 rows x 1 columns]"
            ]
          },
          "metadata": {
            "tags": []
          },
          "execution_count": 27
        }
      ]
    },
    {
      "cell_type": "markdown",
      "metadata": {
        "id": "FgvoXPy4Z8E7"
      },
      "source": [
        "#### split data into train & test\n",
        "    train---> To learn the relationship within data, \n",
        "    test-->  To do predictions, and this testing data will be unseen to my model"
      ]
    },
    {
      "cell_type": "code",
      "metadata": {
        "id": "DSpE4tuEZ_0l"
      },
      "source": [
        "from sklearn.model_selection import train_test_split"
      ],
      "execution_count": 28,
      "outputs": []
    },
    {
      "cell_type": "code",
      "metadata": {
        "id": "CQiugUzbaMjp"
      },
      "source": [
        "X_train, X_test, y_train, y_test=train_test_split(X,y,test_size=0.2)"
      ],
      "execution_count": 29,
      "outputs": []
    },
    {
      "cell_type": "code",
      "metadata": {
        "colab": {
          "base_uri": "https://localhost:8080/"
        },
        "id": "VmDUhbypaUXM",
        "outputId": "5f1ae18d-4f6c-4673-e124-97c982b4b362"
      },
      "source": [
        "X_train.shape"
      ],
      "execution_count": 30,
      "outputs": [
        {
          "output_type": "execute_result",
          "data": {
            "text/plain": [
              "(128868, 100)"
            ]
          },
          "metadata": {
            "tags": []
          },
          "execution_count": 30
        }
      ]
    },
    {
      "cell_type": "code",
      "metadata": {
        "id": "WnKhQESdaaNy"
      },
      "source": [
        "from sklearn.linear_model import LogisticRegression"
      ],
      "execution_count": 31,
      "outputs": []
    },
    {
      "cell_type": "markdown",
      "metadata": {
        "id": "m65vz1jTVdV3"
      },
      "source": [
        "# Apply Logistic on data as use-cas is Classification"
      ]
    },
    {
      "cell_type": "code",
      "metadata": {
        "id": "HboBwJ-pVjRO"
      },
      "source": [
        "clf=LogisticRegression(random_state=0,multi_class='multinomial')"
      ],
      "execution_count": 32,
      "outputs": []
    },
    {
      "cell_type": "code",
      "metadata": {
        "colab": {
          "base_uri": "https://localhost:8080/"
        },
        "id": "Q6igvP33Vn4q",
        "outputId": "e1c43cb3-7a57-45bb-eae5-9d1e04eb1788"
      },
      "source": [
        "clf.fit(X_train,y_train)"
      ],
      "execution_count": 33,
      "outputs": [
        {
          "output_type": "execute_result",
          "data": {
            "text/plain": [
              "LogisticRegression(C=1.0, class_weight=None, dual=False, fit_intercept=True,\n",
              "                   intercept_scaling=1, l1_ratio=None, max_iter=100,\n",
              "                   multi_class='multinomial', n_jobs=None, penalty='l2',\n",
              "                   random_state=0, solver='lbfgs', tol=0.0001, verbose=0,\n",
              "                   warm_start=False)"
            ]
          },
          "metadata": {
            "tags": []
          },
          "execution_count": 33
        }
      ]
    },
    {
      "cell_type": "markdown",
      "metadata": {
        "id": "SLn1nteFWruY"
      },
      "source": [
        "#doing prediction for specific custom data"
      ]
    },
    {
      "cell_type": "code",
      "metadata": {
        "colab": {
          "base_uri": "https://localhost:8080/"
        },
        "id": "Z1jAN7ofWwNE",
        "outputId": "41e2ca6d-b474-4b61-a1c3-d0f6cacf2015"
      },
      "source": [
        "y_pred=clf.predict(X_test)\n",
        "y_pred"
      ],
      "execution_count": 35,
      "outputs": [
        {
          "output_type": "execute_result",
          "data": {
            "text/plain": [
              "array([1., 2., 1., ..., 1., 1., 1.])"
            ]
          },
          "metadata": {
            "tags": []
          },
          "execution_count": 35
        }
      ]
    },
    {
      "cell_type": "markdown",
      "metadata": {
        "id": "V10w1NUxW21Y"
      },
      "source": [
        "## check Accuracy of your model using confusion_matrix,accuracy_score"
      ]
    },
    {
      "cell_type": "code",
      "metadata": {
        "id": "n5mNwF7OW7Ow"
      },
      "source": [
        "from sklearn.metrics import confusion_matrix,accuracy_score"
      ],
      "execution_count": 36,
      "outputs": []
    },
    {
      "cell_type": "code",
      "metadata": {
        "colab": {
          "base_uri": "https://localhost:8080/"
        },
        "id": "rF5fIG-KXB6k",
        "outputId": "0eb3ef2f-ba9e-4cf9-e0d2-9423d3053333"
      },
      "source": [
        "cm=confusion_matrix(y_test,y_pred)\n",
        "print(cm)\n",
        "print(accuracy_score(y_test,y_pred))"
      ],
      "execution_count": 37,
      "outputs": [
        {
          "output_type": "stream",
          "text": [
            "[[ 1237  3054     7]\n",
            " [  906 22403   605]\n",
            " [   12  1268  2725]]\n",
            "0.8183567681658751\n"
          ],
          "name": "stdout"
        }
      ]
    },
    {
      "cell_type": "markdown",
      "metadata": {
        "id": "r6X1USNhXLmA"
      },
      "source": [
        "#create report of your model"
      ]
    },
    {
      "cell_type": "code",
      "metadata": {
        "colab": {
          "base_uri": "https://localhost:8080/"
        },
        "id": "bTXw0b2pXNxs",
        "outputId": "22ed0588-c83b-4353-96c3-268af5b7fbf1"
      },
      "source": [
        "from sklearn.metrics import classification_report\n",
        "print(classification_report(y_test,y_pred))"
      ],
      "execution_count": 38,
      "outputs": [
        {
          "output_type": "stream",
          "text": [
            "              precision    recall  f1-score   support\n",
            "\n",
            "         0.0       0.57      0.29      0.38      4298\n",
            "         1.0       0.84      0.94      0.88     23914\n",
            "         2.0       0.82      0.68      0.74      4005\n",
            "\n",
            "    accuracy                           0.82     32217\n",
            "   macro avg       0.74      0.64      0.67     32217\n",
            "weighted avg       0.80      0.82      0.80     32217\n",
            "\n"
          ],
          "name": "stdout"
        }
      ]
    }
  ]
}